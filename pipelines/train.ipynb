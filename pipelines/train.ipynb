{
  "cells": [
    {
      "cell_type": "code",
      "source": [
        "import tensorflow as tf\r\n",
        "print ( tf.config.list_physical_devices ( 'GPU' ) )"
      ],
      "outputs": [
        {
          "output_type": "stream",
          "name": "stdout",
          "text": "[PhysicalDevice(name='/physical_device:GPU:0', device_type='GPU')]\n"
        }
      ],
      "execution_count": 1,
      "metadata": {
        "gather": {
          "logged": 1641502450918
        }
      }
    },
    {
      "cell_type": "markdown",
      "source": [
        "https://www.analyticsvidhya.com/blog/2020/10/simple-text-multi-classification-task-using-keras-bert/"
      ],
      "metadata": {
        "nteract": {
          "transient": {
            "deleting": false
          }
        }
      }
    },
    {
      "cell_type": "code",
      "source": [
        "#pip install tensorflow-hub"
      ],
      "outputs": [],
      "execution_count": 2,
      "metadata": {
        "jupyter": {
          "source_hidden": false,
          "outputs_hidden": false
        },
        "nteract": {
          "transient": {
            "deleting": false
          }
        },
        "gather": {
          "logged": 1641502451079
        }
      }
    },
    {
      "cell_type": "code",
      "source": [
        "#pip install sentencepiece"
      ],
      "outputs": [],
      "execution_count": 3,
      "metadata": {
        "jupyter": {
          "source_hidden": false,
          "outputs_hidden": false
        },
        "nteract": {
          "transient": {
            "deleting": false
          }
        },
        "gather": {
          "logged": 1641502451237
        }
      }
    },
    {
      "cell_type": "code",
      "source": [
        "import numpy as np\r\n",
        "import pandas as pd\r\n",
        "import tensorflow as tf\r\n",
        "import tensorflow_hub as hub\r\n",
        "import logging\r\n",
        "logging.basicConfig(level=logging.INFO)"
      ],
      "outputs": [],
      "execution_count": 4,
      "metadata": {
        "jupyter": {
          "source_hidden": false,
          "outputs_hidden": false
        },
        "nteract": {
          "transient": {
            "deleting": false
          }
        },
        "gather": {
          "logged": 1641502451375
        }
      }
    },
    {
      "cell_type": "code",
      "source": [
        "#!wget --quiet https://raw.githubusercontent.com/tensorflow/models/master/official/nlp/bert/tokenization.py"
      ],
      "outputs": [],
      "execution_count": 5,
      "metadata": {
        "jupyter": {
          "source_hidden": false,
          "outputs_hidden": false
        },
        "nteract": {
          "transient": {
            "deleting": false
          }
        },
        "gather": {
          "logged": 1641502451532
        }
      }
    },
    {
      "cell_type": "code",
      "source": [
        "from util.tokenization import *\r\n",
        "module_url = 'https://tfhub.dev/tensorflow/bert_en_uncased_L-12_H-768_A-12/2'\r\n",
        "bert_layer = hub.KerasLayer(module_url, trainable=True)"
      ],
      "outputs": [
        {
          "output_type": "stream",
          "name": "stderr",
          "text": "INFO:absl:Using /tmp/tfhub_modules to cache modules.\n"
        }
      ],
      "execution_count": 6,
      "metadata": {
        "jupyter": {
          "source_hidden": false,
          "outputs_hidden": false
        },
        "nteract": {
          "transient": {
            "deleting": false
          }
        },
        "gather": {
          "logged": 1641502456819
        }
      }
    },
    {
      "cell_type": "code",
      "source": [
        "train=pd.read_json(\"embold_train.json\").reset_index(drop=True)  #bold is a subset"
      ],
      "outputs": [],
      "execution_count": 7,
      "metadata": {
        "jupyter": {
          "source_hidden": false,
          "outputs_hidden": false
        },
        "nteract": {
          "transient": {
            "deleting": false
          }
        },
        "gather": {
          "logged": 1641502459617
        }
      }
    },
    {
      "cell_type": "code",
      "source": [
        "test=pd.read_json(\"embold_test.json\").reset_index(drop=True)  #bold is a subset"
      ],
      "outputs": [],
      "execution_count": 8,
      "metadata": {
        "jupyter": {
          "source_hidden": false,
          "outputs_hidden": false
        },
        "nteract": {
          "transient": {
            "deleting": false
          }
        },
        "gather": {
          "logged": 1641502460097
        }
      }
    },
    {
      "cell_type": "code",
      "source": [
        "train['Review'] = (train['title'].map(str) +' '+ train['body']).apply(lambda row: row.strip())"
      ],
      "outputs": [],
      "execution_count": 9,
      "metadata": {
        "jupyter": {
          "source_hidden": false,
          "outputs_hidden": false
        },
        "nteract": {
          "transient": {
            "deleting": false
          }
        },
        "gather": {
          "logged": 1641502460285
        }
      }
    },
    {
      "cell_type": "code",
      "source": [
        "test['Review'] = (test['title'].map(str) +' '+ test['body']).apply(lambda row: row.strip())"
      ],
      "outputs": [],
      "execution_count": 10,
      "metadata": {
        "jupyter": {
          "source_hidden": false,
          "outputs_hidden": false
        },
        "nteract": {
          "transient": {
            "deleting": false
          }
        },
        "gather": {
          "logged": 1641502460445
        }
      }
    },
    {
      "cell_type": "code",
      "source": [
        "vocab_file = bert_layer.resolved_object.vocab_file.asset_path.numpy()\r\n",
        "do_lower_case = bert_layer.resolved_object.do_lower_case.numpy()\r\n",
        "tokenizer = FullTokenizer(vocab_file, do_lower_case)\r\n",
        "\r\n",
        "def bert_encode(texts, tokenizer, max_len=512):\r\n",
        "    all_tokens = []\r\n",
        "    all_masks = []\r\n",
        "    all_segments = []\r\n",
        "    \r\n",
        "    for text in texts:\r\n",
        "        text = tokenizer.tokenize(text)\r\n",
        "            \r\n",
        "        text = text[:max_len-2]\r\n",
        "        input_sequence = [\"[CLS]\"] + text + [\"[SEP]\"]\r\n",
        "        pad_len = max_len - len(input_sequence)\r\n",
        "        \r\n",
        "        tokens = tokenizer.convert_tokens_to_ids(input_sequence) + [0] * pad_len\r\n",
        "        pad_masks = [1] * len(input_sequence) + [0] * pad_len\r\n",
        "        segment_ids = [0] * max_len\r\n",
        "        \r\n",
        "        all_tokens.append(tokens)\r\n",
        "        all_masks.append(pad_masks)\r\n",
        "        all_segments.append(segment_ids)\r\n",
        "    \r\n",
        "    return np.array(all_tokens), np.array(all_masks), np.array(all_segments)"
      ],
      "outputs": [],
      "execution_count": 11,
      "metadata": {
        "jupyter": {
          "source_hidden": false,
          "outputs_hidden": false
        },
        "nteract": {
          "transient": {
            "deleting": false
          }
        },
        "gather": {
          "logged": 1641502460582
        }
      }
    },
    {
      "cell_type": "code",
      "source": [
        "def build_model(bert_layer, max_len=512):\r\n",
        "    input_word_ids = tf.keras.Input(shape=(max_len,), dtype=tf.int32, name=\"input_word_ids\")\r\n",
        "    input_mask = tf.keras.Input(shape=(max_len,), dtype=tf.int32, name=\"input_mask\")\r\n",
        "    segment_ids = tf.keras.Input(shape=(max_len,), dtype=tf.int32, name=\"segment_ids\")\r\n",
        "\r\n",
        "    pooled_output, sequence_output = bert_layer([input_word_ids, input_mask, segment_ids])\r\n",
        "    clf_output = sequence_output[:, 0, :]\r\n",
        "    net = tf.keras.layers.Dense(64, activation='relu')(clf_output)\r\n",
        "    net = tf.keras.layers.Dropout(0.2)(net)\r\n",
        "    net = tf.keras.layers.Dense(32, activation='relu')(net)\r\n",
        "    net = tf.keras.layers.Dropout(0.2)(net)\r\n",
        "    out = tf.keras.layers.Dense(3, activation='softmax')(net)\r\n",
        "    \r\n",
        "    model = tf.keras.models.Model(inputs=[input_word_ids, input_mask, segment_ids], outputs=out)\r\n",
        "    model.compile(tf.keras.optimizers.Adam(lr=1e-5), loss='categorical_crossentropy', metrics=['accuracy'])\r\n",
        "    \r\n",
        "    return model"
      ],
      "outputs": [],
      "execution_count": 12,
      "metadata": {
        "jupyter": {
          "source_hidden": false,
          "outputs_hidden": false
        },
        "nteract": {
          "transient": {
            "deleting": false
          }
        },
        "gather": {
          "logged": 1641502460722
        }
      }
    },
    {
      "cell_type": "code",
      "source": [
        "max_len = 150\r\n",
        "train_input = bert_encode(train.Review.values, tokenizer, max_len=max_len)\r\n",
        "test_input = bert_encode(test.Review.values, tokenizer, max_len=max_len)\r\n",
        "train_labels = tf.keras.utils.to_categorical(train.label.values, 3)"
      ],
      "outputs": [],
      "execution_count": 13,
      "metadata": {
        "jupyter": {
          "source_hidden": false,
          "outputs_hidden": false
        },
        "nteract": {
          "transient": {
            "deleting": false
          }
        },
        "gather": {
          "logged": 1641502771472
        }
      }
    },
    {
      "cell_type": "code",
      "source": [
        "model = build_model(bert_layer, max_len=max_len)\r\n",
        "model.summary()"
      ],
      "outputs": [
        {
          "output_type": "stream",
          "name": "stdout",
          "text": "Model: \"model\"\n__________________________________________________________________________________________________\n Layer (type)                   Output Shape         Param #     Connected to                     \n==================================================================================================\n input_word_ids (InputLayer)    [(None, 150)]        0           []                               \n                                                                                                  \n input_mask (InputLayer)        [(None, 150)]        0           []                               \n                                                                                                  \n segment_ids (InputLayer)       [(None, 150)]        0           []                               \n                                                                                                  \n keras_layer (KerasLayer)       [(None, 768),        109482241   ['input_word_ids[0][0]',         \n                                 (None, 150, 768)]                'input_mask[0][0]',             \n                                                                  'segment_ids[0][0]']            \n                                                                                                  \n tf.__operators__.getitem (Slic  (None, 768)         0           ['keras_layer[0][1]']            \n ingOpLambda)                                                                                     \n                                                                                                  \n dense (Dense)                  (None, 64)           49216       ['tf.__operators__.getitem[0][0]'\n                                                                 ]                                \n                                                                                                  \n dropout (Dropout)              (None, 64)           0           ['dense[0][0]']                  \n                                                                                                  \n dense_1 (Dense)                (None, 32)           2080        ['dropout[0][0]']                \n                                                                                                  \n dropout_1 (Dropout)            (None, 32)           0           ['dense_1[0][0]']                \n                                                                                                  \n dense_2 (Dense)                (None, 3)            99          ['dropout_1[0][0]']              \n                                                                                                  \n==================================================================================================\nTotal params: 109,533,636\nTrainable params: 109,533,635\nNon-trainable params: 1\n__________________________________________________________________________________________________\n"
        },
        {
          "output_type": "stream",
          "name": "stderr",
          "text": "/anaconda/envs/azureml_py38_tensorflow/lib/python3.8/site-packages/keras/optimizer_v2/adam.py:105: UserWarning: The `lr` argument is deprecated, use `learning_rate` instead.\n  super(Adam, self).__init__(name, **kwargs)\n"
        }
      ],
      "execution_count": 14,
      "metadata": {
        "jupyter": {
          "source_hidden": false,
          "outputs_hidden": false
        },
        "nteract": {
          "transient": {
            "deleting": false
          }
        },
        "gather": {
          "logged": 1641502772245
        }
      }
    },
    {
      "cell_type": "code",
      "source": [
        "checkpoint = tf.keras.callbacks.ModelCheckpoint('model.h5', monitor='val_accuracy', save_best_only=True, verbose=1)\r\n",
        "earlystopping = tf.keras.callbacks.EarlyStopping(monitor='val_accuracy', patience=5, verbose=1)\r\n",
        "\r\n",
        "train_history = model.fit(\r\n",
        "    train_input, train_labels, \r\n",
        "    validation_split=0.2,\r\n",
        "    epochs=3,\r\n",
        "    callbacks=[checkpoint, earlystopping],\r\n",
        "    batch_size=32,\r\n",
        "    verbose=1)"
      ],
      "outputs": [],
      "execution_count": null,
      "metadata": {
        "jupyter": {
          "source_hidden": false,
          "outputs_hidden": false
        },
        "nteract": {
          "transient": {
            "deleting": false
          }
        },
        "gather": {
          "logged": 1641491672222
        }
      }
    },
    {
      "cell_type": "code",
      "source": [
        "model.load_weights('model.h5')\r\n",
        "test_pred = model.predict(test_input)"
      ],
      "outputs": [],
      "execution_count": null,
      "metadata": {
        "jupyter": {
          "source_hidden": false,
          "outputs_hidden": false
        },
        "nteract": {
          "transient": {
            "deleting": false
          }
        },
        "gather": {
          "logged": 1641491701856
        }
      }
    },
    {
      "cell_type": "code",
      "source": [
        "print(test_pred)"
      ],
      "outputs": [],
      "execution_count": null,
      "metadata": {
        "jupyter": {
          "source_hidden": false,
          "outputs_hidden": false
        },
        "nteract": {
          "transient": {
            "deleting": false
          }
        },
        "gather": {
          "logged": 1641491742725
        }
      }
    }
  ],
  "metadata": {
    "kernelspec": {
      "name": "azureml_py38_tensorflow",
      "language": "python",
      "display_name": "Python 3.8 - Tensorflow"
    },
    "language_info": {
      "name": "python",
      "version": "3.8.1",
      "mimetype": "text/x-python",
      "codemirror_mode": {
        "name": "ipython",
        "version": 3
      },
      "pygments_lexer": "ipython3",
      "nbconvert_exporter": "python",
      "file_extension": ".py"
    },
    "kernel_info": {
      "name": "azureml_py38_tensorflow"
    },
    "nteract": {
      "version": "nteract-front-end@1.0.0"
    },
    "microsoft": {
      "host": {
        "AzureML": {
          "notebookHasBeenCompleted": true
        }
      }
    }
  },
  "nbformat": 4,
  "nbformat_minor": 0
}