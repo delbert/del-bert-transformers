{
  "cells": [
    {
      "cell_type": "code",
      "source": [
        "#pip install  'azureml-train-automl-runtime==1.41.0'"
      ],
      "outputs": [],
      "execution_count": null,
      "metadata": {
        "jupyter": {
          "source_hidden": false,
          "outputs_hidden": false
        },
        "nteract": {
          "transient": {
            "deleting": false
          }
        }
      }
    },
    {
      "cell_type": "code",
      "source": [
        "import logging\r\n",
        "import os\r\n",
        "import tempfile\r\n",
        "\r\n",
        "import numpy as np\r\n",
        "import pandas as pd\r\n",
        "\r\n",
        "import azureml.core\r\n",
        "from azureml.core.experiment import Experiment\r\n",
        "from azureml.core.workspace import Workspace\r\n",
        "from azureml.core.dataset import Dataset\r\n",
        "from azureml.core.compute import AmlCompute\r\n",
        "from azureml.core.compute import ComputeTarget\r\n",
        "from azureml.core.compute_target import ComputeTargetException\r\n",
        "from azureml.core.script_run_config import ScriptRunConfig\r\n",
        "from azureml.core.run import Run\r\n",
        "from azureml.data.datapath import DataPath\r\n",
        "from azureml.train.automl import AutoMLConfig\r\n",
        "from azureml.train.automl.model_proxy import ModelProxy\r\n",
        "\r\n",
        "from sklearn.model_selection import train_test_split\r\n",
        "from sklearn.metrics import classification_report"
      ],
      "outputs": [],
      "execution_count": null,
      "metadata": {}
    },
    {
      "cell_type": "code",
      "source": [
        "ws = Workspace.from_config()\r\n",
        "\r\n",
        "# Choose an experiment name.\r\n",
        "experiment_name = 'automl-iris'\r\n",
        "\r\n",
        "experiment = Experiment ( ws , experiment_name )\r\n",
        "\r\n",
        "output = {}\r\n",
        "output [ 'Subscription ID' ] = ws.subscription_id\r\n",
        "output [ 'Workspace Name' ] = ws.name\r\n",
        "output [ 'Resource Group' ] = ws.resource_group\r\n",
        "output [ 'Location' ] = ws.location\r\n",
        "output [ 'Experiment Name' ] = experiment.name\r\n",
        "output [ 'AMLS version' ] = azureml.core.VERSION\r\n",
        "\r\n",
        "print ( output )"
      ],
      "outputs": [],
      "execution_count": null,
      "metadata": {
        "jupyter": {
          "source_hidden": false,
          "outputs_hidden": false
        },
        "nteract": {
          "transient": {
            "deleting": false
          }
        }
      }
    },
    {
      "cell_type": "code",
      "source": [
        "train = pd.read_csv ( 'automl-iris-data/iris.csv' )\r\n",
        "train.head ()"
      ],
      "outputs": [],
      "execution_count": null,
      "metadata": {
        "jupyter": {
          "source_hidden": false,
          "outputs_hidden": false
        },
        "nteract": {
          "transient": {
            "deleting": false
          }
        }
      }
    },
    {
      "cell_type": "code",
      "source": [
        "data_train, data_test = train_test_split ( train , test_size=.2, stratify = train [ 'class' ] )\r\n",
        "data_train, data_val = train_test_split ( data_train , test_size=.25, stratify = data_train [ 'class' ] )\r\n",
        "\r\n",
        "blobstore_datadir = data_dir = 'automl-iris-data'  # Local directory to store data\r\n",
        "\r\n",
        "if not os.path.isdir ( data_dir ) :\r\n",
        "    os.mkdir ( data_dir )\r\n",
        "\r\n",
        "train_data_fname = data_dir + '/train_data.csv'\r\n",
        "val_data_fname = data_dir + '/val_data.csv'\r\n",
        "test_data_fname = data_dir + '/test_data.csv'\r\n",
        "\r\n",
        "data_train.to_csv ( train_data_fname , index = False )\r\n",
        "data_val.to_csv ( val_data_fname , index = False )\r\n",
        "data_test.to_csv ( test_data_fname , index = False )\r\n",
        "\r\n",
        "datastore = ws.get_default_datastore ()\r\n",
        "target = DataPath (\r\n",
        "    datastore = datastore , path_on_datastore = blobstore_datadir , name = data_dir\r\n",
        ")\r\n",
        "\r\n",
        "Dataset.File.upload_directory(\r\n",
        "    src_dir = data_dir , target = target , overwrite = True , show_progress = True\r\n",
        ")"
      ],
      "outputs": [],
      "execution_count": null,
      "metadata": {
        "jupyter": {
          "source_hidden": false,
          "outputs_hidden": false
        },
        "nteract": {
          "transient": {
            "deleting": false
          }
        }
      }
    },
    {
      "cell_type": "code",
      "source": [
        "train_dataset = Dataset.Tabular.from_delimited_files (\r\n",
        "    path = [ ( datastore , blobstore_datadir + '/train_data.csv' ) ]\r\n",
        ")\r\n",
        "\r\n",
        "val_dataset = Dataset.Tabular.from_delimited_files (\r\n",
        "    path = [ ( datastore , blobstore_datadir + '/val_data.csv' ) ]\r\n",
        ")\r\n",
        "\r\n",
        "test_dataset = Dataset.Tabular.from_delimited_files (\r\n",
        "    path = [ ( datastore , blobstore_datadir + '/test_data.csv' ) ]\r\n",
        ")\r\n",
        "\r\n",
        "train_dataset = train_dataset.register (\r\n",
        "    workspace = ws ,\r\n",
        "    name = 'automl_iris_data_train' ,\r\n",
        "    description = 'automl_iris_data_train' ,\r\n",
        "    create_new_version = True ,\r\n",
        ")\r\n",
        "\r\n",
        "val_dataset = val_dataset.register (\r\n",
        "    workspace = ws ,\r\n",
        "    name = 'automl_iris_data_val' ,\r\n",
        "    description = 'automl_iris_data_val' ,\r\n",
        "    create_new_version = True ,\r\n",
        ")\r\n",
        "\r\n",
        "test_dataset = test_dataset.register (\r\n",
        "    workspace = ws ,\r\n",
        "    name = 'automl_iris_data_test' ,\r\n",
        "    description = 'automl_iris_data_test' ,\r\n",
        "    create_new_version = True ,\r\n",
        ")"
      ],
      "outputs": [],
      "execution_count": null,
      "metadata": {
        "jupyter": {
          "source_hidden": false,
          "outputs_hidden": false
        },
        "nteract": {
          "transient": {
            "deleting": false
          }
        }
      }
    },
    {
      "cell_type": "code",
      "source": [
        "compute_target = ComputeTarget ( workspace = ws , name = 'automl-training' )"
      ],
      "outputs": [],
      "execution_count": null,
      "metadata": {
        "jupyter": {
          "source_hidden": false,
          "outputs_hidden": false
        },
        "nteract": {
          "transient": {
            "deleting": false
          }
        }
      }
    },
    {
      "cell_type": "code",
      "source": [
        "automl_settings = {\r\n",
        "    'verbosity' : logging.INFO ,\r\n",
        "}\r\n",
        "\r\n",
        "automl_config = AutoMLConfig (\r\n",
        "    task = 'classification' ,\r\n",
        "    primary_metric = 'AUC_weighted' ,\r\n",
        "    experiment_timeout_minutes = 30 ,\r\n",
        "    debug_log= 'automl_errors.log' ,\r\n",
        "    compute_target = compute_target ,\r\n",
        "    training_data = train_dataset ,\r\n",
        "    validation_data = val_dataset ,\r\n",
        "    label_column_name = 'class' ,\r\n",
        "    **automl_settings\r\n",
        ")"
      ],
      "outputs": [],
      "execution_count": null,
      "metadata": {
        "jupyter": {
          "source_hidden": false,
          "outputs_hidden": false
        },
        "nteract": {
          "transient": {
            "deleting": false
          }
        }
      }
    },
    {
      "cell_type": "code",
      "source": [
        "automl_run = experiment.submit ( automl_config , show_output = False )\r\n",
        "_ = automl_run.wait_for_completion ( show_output = False )"
      ],
      "outputs": [],
      "execution_count": null,
      "metadata": {
        "jupyter": {
          "source_hidden": false,
          "outputs_hidden": false
        },
        "nteract": {
          "transient": {
            "deleting": false
          }
        }
      }
    },
    {
      "cell_type": "code",
      "source": [
        "validation_metrics = automl_run.get_metrics ()\r\n",
        "validation_metrics"
      ],
      "outputs": [],
      "execution_count": null,
      "metadata": {
        "jupyter": {
          "source_hidden": false,
          "outputs_hidden": false
        },
        "nteract": {
          "transient": {
            "deleting": false
          }
        }
      }
    },
    {
      "cell_type": "code",
      "source": [
        "#automl_run = azureml.train.automl.run.AutoMLRun ( experiment , 'AutoML_55c202c5-e213-4d92-8190-7694e0986a5b' )\r\n",
        "#automl_run"
      ],
      "outputs": [],
      "execution_count": null,
      "metadata": {
        "jupyter": {
          "source_hidden": false,
          "outputs_hidden": false
        },
        "nteract": {
          "transient": {
            "deleting": false
          }
        }
      }
    },
    {
      "cell_type": "code",
      "source": [
        "best_run , best_model = automl_run.get_output ()\r\n",
        "best_run"
      ],
      "outputs": [],
      "execution_count": null,
      "metadata": {
        "jupyter": {
          "source_hidden": false,
          "outputs_hidden": false
        },
        "nteract": {
          "transient": {
            "deleting": false
          }
        }
      }
    },
    {
      "cell_type": "code",
      "source": [
        "#test_dataset = Dataset.get_by_name ( workspace = ws , name = 'automl_iris_data_test' )"
      ],
      "outputs": [],
      "execution_count": null,
      "metadata": {
        "jupyter": {
          "source_hidden": false,
          "outputs_hidden": false
        },
        "nteract": {
          "transient": {
            "deleting": false
          }
        }
      }
    },
    {
      "cell_type": "code",
      "source": [
        "model_proxy = ModelProxy ( child_run = best_run , compute_target = compute_target )\r\n",
        "predictions, metrics = model_proxy.test ( test_dataset ,  include_predictions_only = True )"
      ],
      "outputs": [],
      "execution_count": null,
      "metadata": {
        "jupyter": {
          "source_hidden": false,
          "outputs_hidden": false
        },
        "nteract": {
          "transient": {
            "deleting": false
          }
        }
      }
    },
    {
      "cell_type": "code",
      "source": [
        "predictionsDF = predictions.to_pandas_dataframe ()\r\n",
        "print ( predictionsDF )"
      ],
      "outputs": [],
      "execution_count": null,
      "metadata": {
        "jupyter": {
          "source_hidden": false,
          "outputs_hidden": false
        },
        "nteract": {
          "transient": {
            "deleting": false
          }
        }
      }
    }
  ],
  "metadata": {
    "kernelspec": {
      "name": "python38-azureml",
      "language": "python",
      "display_name": "Python 3.8 - AzureML"
    },
    "language_info": {
      "name": "python",
      "version": "3.8.1",
      "mimetype": "text/x-python",
      "codemirror_mode": {
        "name": "ipython",
        "version": 3
      },
      "pygments_lexer": "ipython3",
      "nbconvert_exporter": "python",
      "file_extension": ".py"
    },
    "nteract": {
      "version": "nteract-front-end@1.0.0"
    },
    "kernel_info": {
      "name": "python38-azureml"
    }
  },
  "nbformat": 4,
  "nbformat_minor": 0
}