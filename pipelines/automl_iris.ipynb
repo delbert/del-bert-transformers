{
  "cells": [
    {
      "cell_type": "code",
      "source": [
        "!pip install --upgrade azureml-core"
      ],
      "outputs": [],
      "execution_count": null,
      "metadata": {
        "jupyter": {
          "source_hidden": false,
          "outputs_hidden": false
        },
        "nteract": {
          "transient": {
            "deleting": false
          }
        }
      }
    },
    {
      "cell_type": "code",
      "source": [
        "!pip install --upgrade azureml-train-automl-runtime"
      ],
      "outputs": [],
      "execution_count": null,
      "metadata": {
        "jupyter": {
          "source_hidden": false,
          "outputs_hidden": false
        },
        "nteract": {
          "transient": {
            "deleting": false
          }
        }
      }
    },
    {
      "cell_type": "code",
      "source": [
        "!pip list"
      ],
      "outputs": [],
      "execution_count": null,
      "metadata": {
        "jupyter": {
          "source_hidden": false,
          "outputs_hidden": false
        },
        "nteract": {
          "transient": {
            "deleting": false
          }
        }
      }
    },
    {
      "cell_type": "code",
      "source": [
        "import logging\r\n",
        "import os\r\n",
        "import tempfile\r\n",
        "\r\n",
        "import numpy as np\r\n",
        "import pandas as pd\r\n",
        "\r\n",
        "import azureml.core\r\n",
        "from azureml.core.experiment import Experiment\r\n",
        "from azureml.core.workspace import Workspace\r\n",
        "from azureml.core.dataset import Dataset\r\n",
        "from azureml.core.compute import AmlCompute\r\n",
        "from azureml.core.compute import ComputeTarget\r\n",
        "from azureml.core.compute_target import ComputeTargetException\r\n",
        "from azureml.core.script_run_config import ScriptRunConfig\r\n",
        "from azureml.core.run import Run\r\n",
        "from azureml.data.datapath import DataPath\r\n",
        "from azureml.train.automl import AutoMLConfig\r\n",
        "from azureml.train.automl.model_proxy import ModelProxy\r\n",
        "\r\n",
        "from sklearn.model_selection import train_test_split\r\n",
        "from sklearn.metrics import classification_report"
      ],
      "outputs": [],
      "execution_count": 1,
      "metadata": {}
    },
    {
      "cell_type": "code",
      "source": [
        "ws = Workspace.from_config()\r\n",
        "\r\n",
        "experiment_name = 'automl-iris'\r\n",
        "\r\n",
        "experiment = Experiment ( ws , experiment_name )\r\n",
        "\r\n",
        "output = {}\r\n",
        "output [ 'Subscription ID' ] = ws.subscription_id\r\n",
        "output [ 'Workspace Name' ] = ws.name\r\n",
        "output [ 'Resource Group' ] = ws.resource_group\r\n",
        "output [ 'Location' ] = ws.location\r\n",
        "output [ 'Experiment Name' ] = experiment.name\r\n",
        "output [ 'AMLS version' ] = azureml.core.VERSION\r\n",
        "\r\n",
        "print ( output )"
      ],
      "outputs": [
        {
          "output_type": "stream",
          "name": "stdout",
          "text": "{'Subscription ID': '4499226a-31e0-4c35-a5f4-323521d98b5b', 'Workspace Name': 'awml', 'Resource Group': 'aw', 'Location': 'eastus2', 'Experiment Name': 'automl-iris', 'AMLS version': '1.41.0'}\n"
        }
      ],
      "execution_count": 2,
      "metadata": {
        "jupyter": {
          "source_hidden": false,
          "outputs_hidden": false
        },
        "nteract": {
          "transient": {
            "deleting": false
          }
        }
      }
    },
    {
      "cell_type": "code",
      "source": [
        "train = pd.read_csv ( 'automl-iris-data/iris.csv' )\r\n",
        "train.head ()"
      ],
      "outputs": [],
      "execution_count": null,
      "metadata": {
        "jupyter": {
          "source_hidden": false,
          "outputs_hidden": false
        },
        "nteract": {
          "transient": {
            "deleting": false
          }
        }
      }
    },
    {
      "cell_type": "code",
      "source": [
        "data_train, data_test = train_test_split ( train , test_size=.2, stratify = train [ 'class' ] )\r\n",
        "data_train, data_val = train_test_split ( data_train , test_size=.25, stratify = data_train [ 'class' ] )\r\n",
        "\r\n",
        "data_test = data_test.drop ( [ 'class' ] , axis=1 )\r\n",
        "\r\n",
        "blobstore_datadir = data_dir = 'automl-iris-data'  # Local directory to store data\r\n",
        "\r\n",
        "if not os.path.isdir ( data_dir ) :\r\n",
        "    os.mkdir ( data_dir )\r\n",
        "\r\n",
        "train_data_fname = data_dir + '/train_data.csv'\r\n",
        "val_data_fname = data_dir + '/val_data.csv'\r\n",
        "test_data_fname = data_dir + '/test_data.csv'\r\n",
        "\r\n",
        "data_train.to_csv ( train_data_fname , index = False )\r\n",
        "data_val.to_csv ( val_data_fname , index = False )\r\n",
        "data_test.to_csv ( test_data_fname , index = False )\r\n",
        "\r\n",
        "datastore = ws.get_default_datastore ()\r\n",
        "target = DataPath (\r\n",
        "    datastore = datastore , path_on_datastore = blobstore_datadir , name = data_dir\r\n",
        ")\r\n",
        "\r\n",
        "Dataset.File.upload_directory(\r\n",
        "    src_dir = data_dir , target = target , overwrite = True , show_progress = True\r\n",
        ")"
      ],
      "outputs": [],
      "execution_count": null,
      "metadata": {
        "jupyter": {
          "source_hidden": false,
          "outputs_hidden": false
        },
        "nteract": {
          "transient": {
            "deleting": false
          }
        }
      }
    },
    {
      "cell_type": "code",
      "source": [
        "train_dataset = Dataset.Tabular.from_delimited_files (\r\n",
        "    path = [ ( datastore , blobstore_datadir + '/train_data.csv' ) ]\r\n",
        ")\r\n",
        "\r\n",
        "val_dataset = Dataset.Tabular.from_delimited_files (\r\n",
        "    path = [ ( datastore , blobstore_datadir + '/val_data.csv' ) ]\r\n",
        ")\r\n",
        "\r\n",
        "test_dataset = Dataset.Tabular.from_delimited_files (\r\n",
        "    path = [ ( datastore , blobstore_datadir + '/test_data.csv' ) ]\r\n",
        ")\r\n",
        "\r\n",
        "train_dataset = train_dataset.register (\r\n",
        "    workspace = ws ,\r\n",
        "    name = 'automl_iris_data_train' ,\r\n",
        "    description = 'automl_iris_data_train' ,\r\n",
        "    create_new_version = True ,\r\n",
        ")\r\n",
        "\r\n",
        "val_dataset = val_dataset.register (\r\n",
        "    workspace = ws ,\r\n",
        "    name = 'automl_iris_data_val' ,\r\n",
        "    description = 'automl_iris_data_val' ,\r\n",
        "    create_new_version = True ,\r\n",
        ")\r\n",
        "\r\n",
        "test_dataset = test_dataset.register (\r\n",
        "    workspace = ws ,\r\n",
        "    name = 'automl_iris_data_test' ,\r\n",
        "    description = 'automl_iris_data_test' ,\r\n",
        "    create_new_version = True ,\r\n",
        ")"
      ],
      "outputs": [],
      "execution_count": null,
      "metadata": {
        "jupyter": {
          "source_hidden": false,
          "outputs_hidden": false
        },
        "nteract": {
          "transient": {
            "deleting": false
          }
        }
      }
    },
    {
      "cell_type": "code",
      "source": [
        "train_dataset = Dataset.get_by_name ( workspace = ws , name = 'automl_iris_data_train' )\r\n",
        "val_dataset = Dataset.get_by_name ( workspace = ws , name = 'automl_iris_data_val' )\r\n",
        "test_dataset = Dataset.get_by_name ( workspace = ws , name = 'automl_iris_data_test' , version = 2 ) # without label column [ 'class' ] "
      ],
      "outputs": [],
      "execution_count": 3,
      "metadata": {
        "jupyter": {
          "source_hidden": false,
          "outputs_hidden": false
        },
        "nteract": {
          "transient": {
            "deleting": false
          }
        }
      }
    },
    {
      "cell_type": "code",
      "source": [
        "compute_target = ComputeTarget ( workspace = ws , name = 'automl-training' )"
      ],
      "outputs": [],
      "execution_count": 4,
      "metadata": {
        "jupyter": {
          "source_hidden": false,
          "outputs_hidden": false
        },
        "nteract": {
          "transient": {
            "deleting": false
          }
        }
      }
    },
    {
      "cell_type": "code",
      "source": [
        "automl_settings = {\r\n",
        "    'verbosity' : logging.INFO ,\r\n",
        "}\r\n",
        "\r\n",
        "automl_config = AutoMLConfig (\r\n",
        "    task = 'classification' ,\r\n",
        "    primary_metric = 'AUC_weighted' ,\r\n",
        "    experiment_timeout_minutes = 30 ,\r\n",
        "    debug_log= 'automl_errors.log' ,\r\n",
        "    compute_target = compute_target ,\r\n",
        "    training_data = train_dataset ,\r\n",
        "    validation_data = val_dataset ,\r\n",
        "    label_column_name = 'class' ,\r\n",
        "    **automl_settings\r\n",
        ")"
      ],
      "outputs": [],
      "execution_count": 5,
      "metadata": {
        "jupyter": {
          "source_hidden": false,
          "outputs_hidden": false
        },
        "nteract": {
          "transient": {
            "deleting": false
          }
        }
      }
    },
    {
      "cell_type": "code",
      "source": [
        "automl_run = azureml.train.automl.run.AutoMLRun ( experiment , 'AutoML_6479498e-1c33-4b00-a506-a42bcde7630b' )\r\n",
        "automl_run"
      ],
      "outputs": [
        {
          "output_type": "execute_result",
          "execution_count": 6,
          "data": {
            "text/plain": "Run(Experiment: automl-iris,\nId: AutoML_6479498e-1c33-4b00-a506-a42bcde7630b,\nType: automl,\nStatus: Completed)",
            "text/html": "<table style=\"width:100%\"><tr><th>Experiment</th><th>Id</th><th>Type</th><th>Status</th><th>Details Page</th><th>Docs Page</th></tr><tr><td>automl-iris</td><td>AutoML_6479498e-1c33-4b00-a506-a42bcde7630b</td><td>automl</td><td>Completed</td><td><a href=\"https://ml.azure.com/runs/AutoML_6479498e-1c33-4b00-a506-a42bcde7630b?wsid=/subscriptions/4499226a-31e0-4c35-a5f4-323521d98b5b/resourcegroups/aw/workspaces/awml&amp;tid=72f988bf-86f1-41af-91ab-2d7cd011db47\" target=\"_blank\" rel=\"noopener\">Link to Azure Machine Learning studio</a></td><td><a href=\"https://docs.microsoft.com/en-us/python/api/overview/azure/ml/intro?view=azure-ml-py\" target=\"_blank\" rel=\"noopener\">Link to Documentation</a></td></tr></table>"
          },
          "metadata": {}
        }
      ],
      "execution_count": 6,
      "metadata": {
        "jupyter": {
          "source_hidden": false,
          "outputs_hidden": false
        },
        "nteract": {
          "transient": {
            "deleting": false
          }
        }
      }
    },
    {
      "cell_type": "code",
      "source": [
        "automl_run = experiment.submit ( automl_config , show_output = False )\r\n",
        "_ = automl_run.wait_for_completion ( show_output = False )"
      ],
      "outputs": [],
      "execution_count": null,
      "metadata": {
        "jupyter": {
          "source_hidden": false,
          "outputs_hidden": false
        },
        "nteract": {
          "transient": {
            "deleting": false
          }
        }
      }
    },
    {
      "cell_type": "code",
      "source": [
        "validation_metrics = automl_run.get_metrics ()\r\n",
        "validation_metrics"
      ],
      "outputs": [],
      "execution_count": null,
      "metadata": {
        "jupyter": {
          "source_hidden": false,
          "outputs_hidden": false
        },
        "nteract": {
          "transient": {
            "deleting": false
          }
        }
      }
    },
    {
      "cell_type": "code",
      "source": [
        "best_run , best_model = automl_run.get_output ()\r\n",
        "best_run"
      ],
      "outputs": [
        {
          "output_type": "execute_result",
          "execution_count": 9,
          "data": {
            "text/plain": "Run(Experiment: automl-iris,\nId: AutoML_6479498e-1c33-4b00-a506-a42bcde7630b_0,\nType: None,\nStatus: Completed)",
            "text/html": "<table style=\"width:100%\"><tr><th>Experiment</th><th>Id</th><th>Type</th><th>Status</th><th>Details Page</th><th>Docs Page</th></tr><tr><td>automl-iris</td><td>AutoML_6479498e-1c33-4b00-a506-a42bcde7630b_0</td><td></td><td>Completed</td><td><a href=\"https://ml.azure.com/runs/AutoML_6479498e-1c33-4b00-a506-a42bcde7630b_0?wsid=/subscriptions/4499226a-31e0-4c35-a5f4-323521d98b5b/resourcegroups/aw/workspaces/awml&amp;tid=72f988bf-86f1-41af-91ab-2d7cd011db47\" target=\"_blank\" rel=\"noopener\">Link to Azure Machine Learning studio</a></td><td><a href=\"https://docs.microsoft.com/en-us/python/api/azureml-core/azureml.core.run.Run?view=azure-ml-py\" target=\"_blank\" rel=\"noopener\">Link to Documentation</a></td></tr></table>"
          },
          "metadata": {}
        }
      ],
      "execution_count": 9,
      "metadata": {
        "jupyter": {
          "source_hidden": false,
          "outputs_hidden": false
        },
        "nteract": {
          "transient": {
            "deleting": false
          }
        }
      }
    },
    {
      "cell_type": "code",
      "source": [],
      "outputs": [
        {
          "output_type": "execute_result",
          "execution_count": 10,
          "data": {
            "text/plain": "azureml.automl.runtime.shared.model_wrappers.PipelineWithYTransformations"
          },
          "metadata": {}
        }
      ],
      "execution_count": 10,
      "metadata": {
        "jupyter": {
          "source_hidden": false,
          "outputs_hidden": false
        },
        "nteract": {
          "transient": {
            "deleting": false
          }
        }
      }
    },
    {
      "cell_type": "code",
      "source": [
        "model_proxy = ModelProxy ( child_run = best_run , compute_target = compute_target )\r\n",
        "#predictions, metrics = model_proxy.test ( test_dataset ,  include_predictions_only = True )\r\n",
        "predictions = model_proxy.predict ( test_dataset )"
      ],
      "outputs": [
        {
          "output_type": "stream",
          "name": "stderr",
          "text": "WARNING:azureml._base_sdk_common._docstring_wrapper:Class ModelProxy: This is an experimental class, and may change at any time. Please see https://aka.ms/azuremlexperimental for more information.\n"
        }
      ],
      "execution_count": 12,
      "metadata": {
        "jupyter": {
          "source_hidden": false,
          "outputs_hidden": false
        },
        "nteract": {
          "transient": {
            "deleting": false
          }
        }
      }
    },
    {
      "cell_type": "code",
      "source": [
        "predictionsDF = predictions.to_pandas_dataframe ()\r\n",
        "print ( predictionsDF )"
      ],
      "outputs": [
        {
          "output_type": "stream",
          "name": "stdout",
          "text": "                  0\n0   iris-versicolor\n1   iris-versicolor\n2   iris-versicolor\n3       iris-setosa\n4       iris-setosa\n5    iris-virginica\n6    iris-virginica\n7   iris-versicolor\n8    iris-virginica\n9       iris-setosa\n10      iris-setosa\n11      iris-setosa\n12   iris-virginica\n13   iris-virginica\n14   iris-virginica\n15  iris-versicolor\n16   iris-virginica\n17      iris-setosa\n18   iris-virginica\n19  iris-versicolor\n20  iris-versicolor\n21      iris-setosa\n22      iris-setosa\n23      iris-setosa\n24   iris-virginica\n25  iris-versicolor\n26  iris-versicolor\n27   iris-virginica\n28  iris-versicolor\n29      iris-setosa\n"
        }
      ],
      "execution_count": 13,
      "metadata": {
        "jupyter": {
          "source_hidden": false,
          "outputs_hidden": false
        },
        "nteract": {
          "transient": {
            "deleting": false
          }
        }
      }
    }
  ],
  "metadata": {
    "kernelspec": {
      "name": "python38-azureml",
      "language": "python",
      "display_name": "Python 3.8 - AzureML"
    },
    "language_info": {
      "name": "python",
      "version": "3.8.5",
      "mimetype": "text/x-python",
      "codemirror_mode": {
        "name": "ipython",
        "version": 3
      },
      "pygments_lexer": "ipython3",
      "nbconvert_exporter": "python",
      "file_extension": ".py"
    },
    "nteract": {
      "version": "nteract-front-end@1.0.0"
    },
    "kernel_info": {
      "name": "python38-azureml"
    }
  },
  "nbformat": 4,
  "nbformat_minor": 0
}