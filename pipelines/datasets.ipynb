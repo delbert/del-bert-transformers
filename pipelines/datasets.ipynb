{
  "cells": [
    {
      "cell_type": "code",
      "source": [
        "import pandas as pd"
      ],
      "outputs": [],
      "execution_count": 1,
      "metadata": {
        "gather": {
          "logged": 1641584909281
        }
      }
    },
    {
      "cell_type": "code",
      "source": [
        "train = pd.read_json ( 'bold_train.json' ) . reset_index ( drop = True )\r\n",
        "train.to_csv ( 'bold_train.csv' )\r\n",
        "\r\n",
        "test = pd.read_json ( 'bold_test.json' ) . reset_index ( drop = True ) \r\n",
        "test.to_csv ( 'bold_test.csv' ) "
      ],
      "outputs": [],
      "execution_count": 2,
      "metadata": {
        "jupyter": {
          "source_hidden": false,
          "outputs_hidden": false
        },
        "nteract": {
          "transient": {
            "deleting": false
          }
        },
        "gather": {
          "logged": 1641584913098
        }
      }
    },
    {
      "cell_type": "code",
      "source": [
        "from azureml.core import Environment , Workspace\r\n",
        "\r\n",
        "workspace = Workspace.from_config()\r\n",
        "workspace.get_details()\r\n",
        "\r\n",
        "myenv = Environment.from_dockerfile ( 'tf-bert-nlp-batch' , dockerfile = 'dockerfile.txt' )\r\n"
      ],
      "outputs": [],
      "execution_count": 6,
      "metadata": {
        "jupyter": {
          "source_hidden": false,
          "outputs_hidden": false
        },
        "nteract": {
          "transient": {
            "deleting": false
          }
        },
        "gather": {
          "logged": 1644611312972
        }
      }
    }
  ],
  "metadata": {
    "kernelspec": {
      "name": "python3-azureml",
      "language": "python",
      "display_name": "Python 3.6 - AzureML"
    },
    "language_info": {
      "name": "python",
      "version": "3.6.9",
      "mimetype": "text/x-python",
      "codemirror_mode": {
        "name": "ipython",
        "version": 3
      },
      "pygments_lexer": "ipython3",
      "nbconvert_exporter": "python",
      "file_extension": ".py"
    },
    "kernel_info": {
      "name": "python3-azureml"
    },
    "nteract": {
      "version": "nteract-front-end@1.0.0"
    },
    "microsoft": {
      "host": {
        "AzureML": {
          "notebookHasBeenCompleted": true
        }
      }
    }
  },
  "nbformat": 4,
  "nbformat_minor": 0
}